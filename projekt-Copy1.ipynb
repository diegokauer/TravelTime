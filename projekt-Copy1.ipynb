{
 "cells": [
  {
   "cell_type": "code",
   "execution_count": 2,
   "id": "23cc9193-cbb8-4a7e-a39b-9078f36da047",
   "metadata": {},
   "outputs": [
    {
     "name": "stdout",
     "output_type": "stream",
     "text": [
      "Requirement already satisfied: matplotlib in c:\\users\\danil\\mambaforge\\lib\\site-packages (3.5.1)\n",
      "Requirement already satisfied: fonttools>=4.22.0 in c:\\users\\danil\\mambaforge\\lib\\site-packages (from matplotlib) (4.29.1)\n",
      "Requirement already satisfied: cycler>=0.10 in c:\\users\\danil\\mambaforge\\lib\\site-packages (from matplotlib) (0.11.0)\n",
      "Requirement already satisfied: kiwisolver>=1.0.1 in c:\\users\\danil\\mambaforge\\lib\\site-packages (from matplotlib) (1.3.2)\n",
      "Requirement already satisfied: python-dateutil>=2.7 in c:\\users\\danil\\mambaforge\\lib\\site-packages (from matplotlib) (2.8.2)\n",
      "Requirement already satisfied: numpy>=1.17 in c:\\users\\danil\\mambaforge\\lib\\site-packages (from matplotlib) (1.22.2)\n",
      "Requirement already satisfied: pillow>=6.2.0 in c:\\users\\danil\\mambaforge\\lib\\site-packages (from matplotlib) (9.0.1)\n",
      "Requirement already satisfied: pyparsing>=2.2.1 in c:\\users\\danil\\mambaforge\\lib\\site-packages (from matplotlib) (3.0.6)\n",
      "Requirement already satisfied: packaging>=20.0 in c:\\users\\danil\\mambaforge\\lib\\site-packages (from matplotlib) (21.3)\n",
      "Requirement already satisfied: six>=1.5 in c:\\users\\danil\\mambaforge\\lib\\site-packages (from python-dateutil>=2.7->matplotlib) (1.16.0)\n",
      "Note: you may need to restart the kernel to use updated packages.\n"
     ]
    }
   ],
   "source": [
    "pip install matplotlib"
   ]
  },
  {
   "cell_type": "code",
   "execution_count": 86,
   "id": "57c3b733-1e55-407e-84ed-56146fc4e842",
   "metadata": {},
   "outputs": [],
   "source": [
    "import matplotlib\n",
    "matplotlib.use('TKAgg')\n",
    "\n",
    "import matplotlib.pyplot as plt\n",
    "import numpy as np\n",
    "from sklearn import datasets, linear_model\n",
    "import pandas as pd"
   ]
  },
  {
   "cell_type": "code",
   "execution_count": 87,
   "id": "53c1ede6-5360-4b24-867a-e9d2a9889c2c",
   "metadata": {},
   "outputs": [],
   "source": [
    "import datetime"
   ]
  },
  {
   "cell_type": "markdown",
   "id": "aeeebe73-c499-48ac-b874-4e720217d4e9",
   "metadata": {},
   "source": [
    "Import all the necessary libraries for matplotlib and pandas"
   ]
  },
  {
   "cell_type": "code",
   "execution_count": 88,
   "id": "eb0aa2e4-a58c-4f2a-9871-51ea69f2dee5",
   "metadata": {},
   "outputs": [],
   "source": [
    "df=pd.read_csv(\"C:\\\\Users\\\\danil\\\\Downloads\\\\yellow_tripdata_2019-01.csv\")"
   ]
  },
  {
   "cell_type": "markdown",
   "id": "6969d99e-d0af-4dad-ae16-46aca44e231d",
   "metadata": {},
   "source": [
    "read the first dataset for yellow taxi as csv with pandas"
   ]
  },
  {
   "cell_type": "code",
   "execution_count": 89,
   "id": "d72bffad-6611-4283-b042-34b0dfd402cb",
   "metadata": {},
   "outputs": [],
   "source": [
    "df=df.drop(columns=['VendorID', 'passenger_count','store_and_fwd_flag','store_and_fwd_flag','extra','extra','tip_amount','tolls_amount','improvement_surcharge','total_amount','congestion_surcharge','mta_tax','payment_type'])\n"
   ]
  },
  {
   "cell_type": "markdown",
   "id": "f15b74e1-17e4-414c-ab35-651a8b2cc957",
   "metadata": {},
   "source": [
    "Drop all unnecessary columns. Most of them are the money paid and information about the driver that has no impact on our assigment"
   ]
  },
  {
   "cell_type": "code",
   "execution_count": 90,
   "id": "d042a14f-9425-458b-874a-14e039fcbca5",
   "metadata": {},
   "outputs": [],
   "source": [
    "df=df[df.trip_distance != 0.00]"
   ]
  },
  {
   "cell_type": "markdown",
   "id": "117c3ab0-4b85-47cc-9a68-44886e259861",
   "metadata": {},
   "source": [
    "Drop all the rows that has 0 trip distance because the rows dont contribute much without distance"
   ]
  },
  {
   "cell_type": "code",
   "execution_count": 91,
   "id": "128d9fb8-1351-4949-86b9-222fb7c8979c",
   "metadata": {},
   "outputs": [],
   "source": [
    "df.tpep_pickup_datetime = pd.to_datetime(df.tpep_pickup_datetime)\n",
    "df.tpep_dropoff_datetime = pd.to_datetime(df.tpep_dropoff_datetime)\n",
    "df=df.drop(df[df.tpep_pickup_datetime > df.tpep_dropoff_datetime].index)\n",
    "df=df.drop(df[df.PULocationID>263].index)\n",
    "df=df.drop(df[df.DOLocationID>263].index)"
   ]
  },
  {
   "cell_type": "markdown",
   "id": "c80cd4f6-30af-4ff5-b6b4-3e656881b7ed",
   "metadata": {},
   "source": [
    "Make the pick up and drop off date to pandas dtype date so that we can use it later when compared. Drop the rows with greater pick up time then drop of time and drop rows that has greater pick up location id and drop of location id "
   ]
  },
  {
   "cell_type": "code",
   "execution_count": 64,
   "id": "d6933ced-fb0f-4472-a120-19b01fcf5949",
   "metadata": {},
   "outputs": [],
   "source": [
    "fh=pd.read_csv(\"C:\\\\Users\\\\danil\\\\Downloads\\\\fhv_tripdata_2019-01.csv\")\n"
   ]
  },
  {
   "cell_type": "markdown",
   "id": "7531a750-64c6-48c1-8b49-9be84625a696",
   "metadata": {},
   "source": [
    "Read the for hire taxi dataset to add to the other one"
   ]
  },
  {
   "cell_type": "code",
   "execution_count": 65,
   "id": "27c876d3-9e4e-46c7-89dc-14cbdd6c8150",
   "metadata": {},
   "outputs": [],
   "source": [
    "fh=fh.dropna()"
   ]
  },
  {
   "cell_type": "markdown",
   "id": "1272a0a8-9f17-4d67-af9d-c459fcc378b7",
   "metadata": {},
   "source": [
    "Drop all the rows with NaN data"
   ]
  },
  {
   "cell_type": "code",
   "execution_count": 66,
   "id": "d7d78de0-0a94-48bf-8c99-61973da8aeeb",
   "metadata": {},
   "outputs": [],
   "source": [
    "fh=fh.drop(columns=['dispatching_base_num','SR_Flag'])"
   ]
  },
  {
   "cell_type": "markdown",
   "id": "22eb93d2-159e-4914-8267-e398b07f2fdd",
   "metadata": {},
   "source": [
    "Drop unnecessary columns"
   ]
  },
  {
   "cell_type": "code",
   "execution_count": 67,
   "id": "46753db6-20a1-4bbd-9d58-5f93e271b707",
   "metadata": {},
   "outputs": [],
   "source": [
    "fh.pickup_datetime = pd.to_datetime(fh.pickup_datetime)\n",
    "fh.dropoff_datetime = pd.to_datetime(fh.dropoff_datetime)\n",
    "fh=fh.drop(fh[fh.PULocationID>263].index)\n",
    "fh=fh.drop(fh[fh.DOLocationID>263].index)\n",
    "fh=fh.drop(fh[fh.pickup_datetime > fh.dropoff_datetime].index)"
   ]
  },
  {
   "cell_type": "markdown",
   "id": "bd7bde95-3fc5-4909-9338-bcdff58d2b28",
   "metadata": {},
   "source": [
    "same as yellow Make the pick up and drop off date to pandas dtype date and drop some rows"
   ]
  },
  {
   "cell_type": "code",
   "execution_count": 92,
   "id": "5cf8b318-487f-4ff6-b287-5426dd5edce5",
   "metadata": {},
   "outputs": [],
   "source": [
    "gt=pd.read_csv(\"C:\\\\Users\\\\danil\\\\Downloads\\\\green_tripdata_2019-01.csv\")"
   ]
  },
  {
   "cell_type": "markdown",
   "id": "84671f1b-3c74-4937-b54d-5feacd7cfd3a",
   "metadata": {},
   "source": [
    "Read green taxi dataset clean and add to the yellow"
   ]
  },
  {
   "cell_type": "code",
   "execution_count": 93,
   "id": "36f97263-0780-43fe-976f-a7c11c8cfa5e",
   "metadata": {},
   "outputs": [],
   "source": [
    "gt=gt.drop(columns=['VendorID', 'passenger_count','store_and_fwd_flag','store_and_fwd_flag','extra','extra','tip_amount','tolls_amount','improvement_surcharge','total_amount','congestion_surcharge','mta_tax','payment_type','ehail_fee','trip_type'])\n"
   ]
  },
  {
   "cell_type": "markdown",
   "id": "744467f7-bc44-4bb1-b9fa-3cc70bcb561c",
   "metadata": {},
   "source": [
    "Has the same columns as yellow so we do the same cleaning process"
   ]
  },
  {
   "cell_type": "code",
   "execution_count": 94,
   "id": "402796ef-4da9-469e-a1c7-ed8c5d87b680",
   "metadata": {},
   "outputs": [],
   "source": [
    "gt.lpep_pickup_datetime = pd.to_datetime(gt.lpep_pickup_datetime)\n",
    "gt.lpep_dropoff_datetime = pd.to_datetime(gt.lpep_dropoff_datetime)"
   ]
  },
  {
   "cell_type": "code",
   "execution_count": 95,
   "id": "a50dc8f7-2f98-4066-95a0-5bffc282a17d",
   "metadata": {},
   "outputs": [],
   "source": [
    "gt=gt[gt.trip_distance != 0.00]"
   ]
  },
  {
   "cell_type": "code",
   "execution_count": 96,
   "id": "4dbbd7da-42c1-42bb-89ef-8409e0540764",
   "metadata": {},
   "outputs": [],
   "source": [
    "gt=gt.drop(gt[gt.lpep_pickup_datetime > gt.lpep_dropoff_datetime].index)\n",
    "gt=gt.drop(gt[gt.PULocationID>263].index)\n",
    "gt=gt.drop(gt[gt.DOLocationID>263].index)"
   ]
  },
  {
   "cell_type": "code",
   "execution_count": 97,
   "id": "77644f69-9d70-4f9a-876f-e19271b52c18",
   "metadata": {},
   "outputs": [],
   "source": [
    "df['pickup'] = (df['tpep_pickup_datetime']-df['tpep_pickup_datetime'].dt.normalize()).dt.total_seconds()\n",
    "df['time'] = (df.tpep_dropoff_datetime-df.tpep_pickup_datetime).dt.total_seconds()\n",
    "df=df.drop(columns=['tpep_dropoff_datetime'])\n",
    "df=df.drop(columns=['tpep_pickup_datetime'])"
   ]
  },
  {
   "cell_type": "markdown",
   "id": "13ba2708-2c4c-47a0-9cb4-fb3871e0e401",
   "metadata": {},
   "source": [
    "Make a new column 'pickup' that has the pickup time in seconds without the date, midnight starts at 0. So we can use it in our model later"
   ]
  },
  {
   "cell_type": "markdown",
   "id": "596d7550-ea4e-4187-9d0c-38510067e65c",
   "metadata": {},
   "source": [
    "Make a new column 'time' that has the driving time in seconds and starts at 0 just when the client is picked up. Used in the model aswell "
   ]
  },
  {
   "cell_type": "markdown",
   "id": "b0494699-4bbe-4f8b-a200-246ffc2e977f",
   "metadata": {},
   "source": [
    "After we get the columns time and pick up drop unnecessary column"
   ]
  },
  {
   "cell_type": "code",
   "execution_count": 74,
   "id": "62ae9959-22dc-41f0-befb-53ca00c9e165",
   "metadata": {},
   "outputs": [],
   "source": [
    "fh['time'] = (fh.dropoff_datetime-fh.pickup_datetime).dt.total_seconds()\n",
    "fh=fh.drop(columns=['dropoff_datetime'])\n",
    "fh['pickup'] = (fh['pickup_datetime']-fh['pickup_datetime'].dt.normalize()).dt.total_seconds()\n",
    "fh=fh.drop(columns=['pickup_datetime'])"
   ]
  },
  {
   "cell_type": "markdown",
   "id": "3a73a907-f771-4013-9626-c9f0dbad1df3",
   "metadata": {},
   "source": [
    "Do the same with for hire dataset"
   ]
  },
  {
   "cell_type": "code",
   "execution_count": 98,
   "id": "1ce69634-6b30-45cd-8df6-45ed26e02631",
   "metadata": {},
   "outputs": [],
   "source": [
    "gt['time'] = (gt.lpep_dropoff_datetime-gt.lpep_pickup_datetime).dt.total_seconds()\n",
    "gt=gt.drop(columns=['lpep_dropoff_datetime'])\n",
    "gt['pickup'] = (gt['lpep_pickup_datetime']-gt['lpep_pickup_datetime'].dt.normalize()).dt.total_seconds()\n",
    "gt=gt.drop(columns=['lpep_pickup_datetime'])"
   ]
  },
  {
   "cell_type": "markdown",
   "id": "ccaa26b0-1584-40b7-8c55-32bf530d6d8e",
   "metadata": {},
   "source": [
    "Do the same with the green dataset"
   ]
  },
  {
   "cell_type": "code",
   "execution_count": 99,
   "id": "aacffa2c-dea5-4efc-b9b7-0b49b0e3c12a",
   "metadata": {},
   "outputs": [
    {
     "name": "stderr",
     "output_type": "stream",
     "text": [
      "C:\\Users\\danil\\AppData\\Local\\Temp\\ipykernel_6688\\3538197625.py:1: FutureWarning: The frame.append method is deprecated and will be removed from pandas in a future version. Use pandas.concat instead.\n",
      "  df=df.append(gt)\n"
     ]
    }
   ],
   "source": [
    "df=df.append(gt)"
   ]
  },
  {
   "cell_type": "markdown",
   "id": "c76777ec-bb40-414d-ad9f-640b620d154c",
   "metadata": {},
   "source": [
    "green and yellow have the same columns so append green into yellow to get 1 dataset"
   ]
  },
  {
   "cell_type": "code",
   "execution_count": 100,
   "id": "e42da5e3-42a2-4630-af90-438db4f3899a",
   "metadata": {},
   "outputs": [],
   "source": [
    "df=df.drop(df[df.time==0].index)"
   ]
  },
  {
   "cell_type": "markdown",
   "id": "27c1643b-6cea-4231-83b8-194828e7ea5a",
   "metadata": {},
   "source": [
    "some more cleaning, remove all the wrongly input rows like time traveled 0, fare amount under 2.5 because starting fee is 2.5 and rides that take longer then 8 hours "
   ]
  },
  {
   "cell_type": "code",
   "execution_count": 101,
   "id": "5c7b71a5-0817-438c-b388-c9c074730581",
   "metadata": {},
   "outputs": [],
   "source": [
    "df=df.drop(df[df.fare_amount<=2.5].index)"
   ]
  },
  {
   "cell_type": "code",
   "execution_count": 102,
   "id": "2ed14524-c56b-4cf4-9142-c7ec3e192d1b",
   "metadata": {},
   "outputs": [],
   "source": [
    "df=df.drop(df[df.time>60*60*8].index)"
   ]
  },
  {
   "cell_type": "code",
   "execution_count": 74,
   "id": "74ed1048-4a7e-49c6-828c-e91114dcabef",
   "metadata": {},
   "outputs": [],
   "source": [
    "df.to_csv('yellow_taxi.csv')"
   ]
  },
  {
   "cell_type": "markdown",
   "id": "4a92bcd0-a19f-4b1c-a4e5-e53300c0b2f6",
   "metadata": {},
   "source": [
    "make the new files so we dont need to run code again"
   ]
  },
  {
   "cell_type": "code",
   "execution_count": 75,
   "id": "c3fafea5-3f8e-4ea7-986f-f065f1c01585",
   "metadata": {},
   "outputs": [],
   "source": [
    "fh.to_csv('for_hire.csv')"
   ]
  },
  {
   "cell_type": "code",
   "execution_count": 76,
   "id": "844abe69-3ca8-4f06-b60f-ea2eeed03ebb",
   "metadata": {},
   "outputs": [],
   "source": [
    "gt.to_csv('green_taxi.csv')"
   ]
  },
  {
   "cell_type": "code",
   "execution_count": 103,
   "id": "964e0096-e389-4c1b-997d-0f5f017a8a25",
   "metadata": {},
   "outputs": [],
   "source": [
    "X = df[['trip_distance','pickup']]\n",
    "Y = df['time']\n",
    "\n",
    "  \n",
    "X = X.values.reshape(len(X), 2)\n",
    "Y = Y.values.reshape(len(Y), 1)\n"
   ]
  },
  {
   "cell_type": "markdown",
   "id": "e317e342-7dce-4af9-925a-dd9d69c71fc0",
   "metadata": {},
   "source": [
    "Give X and Y values to use in the models and set the size. We use trip distance and pickup time for X and Y is the time travled  "
   ]
  },
  {
   "cell_type": "code",
   "execution_count": 104,
   "id": "88256fdf-f1b7-4a04-86dd-672630e6c1fa",
   "metadata": {},
   "outputs": [
    {
     "data": {
      "text/html": [
       "<div>\n",
       "<style scoped>\n",
       "    .dataframe tbody tr th:only-of-type {\n",
       "        vertical-align: middle;\n",
       "    }\n",
       "\n",
       "    .dataframe tbody tr th {\n",
       "        vertical-align: top;\n",
       "    }\n",
       "\n",
       "    .dataframe thead th {\n",
       "        text-align: right;\n",
       "    }\n",
       "</style>\n",
       "<table border=\"1\" class=\"dataframe\">\n",
       "  <thead>\n",
       "    <tr style=\"text-align: right;\">\n",
       "      <th></th>\n",
       "      <th>trip_distance</th>\n",
       "      <th>RatecodeID</th>\n",
       "      <th>PULocationID</th>\n",
       "      <th>DOLocationID</th>\n",
       "      <th>fare_amount</th>\n",
       "      <th>pickup</th>\n",
       "      <th>time</th>\n",
       "    </tr>\n",
       "  </thead>\n",
       "  <tbody>\n",
       "    <tr>\n",
       "      <th>count</th>\n",
       "      <td>7.999598e+06</td>\n",
       "      <td>7.999598e+06</td>\n",
       "      <td>7.999598e+06</td>\n",
       "      <td>7.999598e+06</td>\n",
       "      <td>7.999598e+06</td>\n",
       "      <td>7.999598e+06</td>\n",
       "      <td>7.999598e+06</td>\n",
       "    </tr>\n",
       "    <tr>\n",
       "      <th>mean</th>\n",
       "      <td>2.852626e+00</td>\n",
       "      <td>1.063802e+00</td>\n",
       "      <td>1.593659e+02</td>\n",
       "      <td>1.591539e+02</td>\n",
       "      <td>1.230683e+01</td>\n",
       "      <td>5.143937e+04</td>\n",
       "      <td>7.866176e+02</td>\n",
       "    </tr>\n",
       "    <tr>\n",
       "      <th>std</th>\n",
       "      <td>3.683954e+00</td>\n",
       "      <td>5.533856e-01</td>\n",
       "      <td>6.760539e+01</td>\n",
       "      <td>7.063965e+01</td>\n",
       "      <td>2.206185e+02</td>\n",
       "      <td>2.129533e+04</td>\n",
       "      <td>6.369239e+02</td>\n",
       "    </tr>\n",
       "    <tr>\n",
       "      <th>min</th>\n",
       "      <td>1.000000e-02</td>\n",
       "      <td>1.000000e+00</td>\n",
       "      <td>1.000000e+00</td>\n",
       "      <td>1.000000e+00</td>\n",
       "      <td>2.800000e+00</td>\n",
       "      <td>0.000000e+00</td>\n",
       "      <td>1.000000e+00</td>\n",
       "    </tr>\n",
       "    <tr>\n",
       "      <th>25%</th>\n",
       "      <td>9.400000e-01</td>\n",
       "      <td>1.000000e+00</td>\n",
       "      <td>1.130000e+02</td>\n",
       "      <td>1.070000e+02</td>\n",
       "      <td>6.000000e+00</td>\n",
       "      <td>3.631000e+04</td>\n",
       "      <td>3.730000e+02</td>\n",
       "    </tr>\n",
       "    <tr>\n",
       "      <th>50%</th>\n",
       "      <td>1.590000e+00</td>\n",
       "      <td>1.000000e+00</td>\n",
       "      <td>1.610000e+02</td>\n",
       "      <td>1.610000e+02</td>\n",
       "      <td>9.000000e+00</td>\n",
       "      <td>5.377000e+04</td>\n",
       "      <td>6.160000e+02</td>\n",
       "    </tr>\n",
       "    <tr>\n",
       "      <th>75%</th>\n",
       "      <td>2.900000e+00</td>\n",
       "      <td>1.000000e+00</td>\n",
       "      <td>2.310000e+02</td>\n",
       "      <td>2.330000e+02</td>\n",
       "      <td>1.350000e+01</td>\n",
       "      <td>6.856900e+04</td>\n",
       "      <td>1.004000e+03</td>\n",
       "    </tr>\n",
       "    <tr>\n",
       "      <th>max</th>\n",
       "      <td>8.318000e+02</td>\n",
       "      <td>9.900000e+01</td>\n",
       "      <td>2.630000e+02</td>\n",
       "      <td>2.630000e+02</td>\n",
       "      <td>6.232599e+05</td>\n",
       "      <td>8.639900e+04</td>\n",
       "      <td>2.877300e+04</td>\n",
       "    </tr>\n",
       "  </tbody>\n",
       "</table>\n",
       "</div>"
      ],
      "text/plain": [
       "       trip_distance    RatecodeID  PULocationID  DOLocationID   fare_amount  \\\n",
       "count   7.999598e+06  7.999598e+06  7.999598e+06  7.999598e+06  7.999598e+06   \n",
       "mean    2.852626e+00  1.063802e+00  1.593659e+02  1.591539e+02  1.230683e+01   \n",
       "std     3.683954e+00  5.533856e-01  6.760539e+01  7.063965e+01  2.206185e+02   \n",
       "min     1.000000e-02  1.000000e+00  1.000000e+00  1.000000e+00  2.800000e+00   \n",
       "25%     9.400000e-01  1.000000e+00  1.130000e+02  1.070000e+02  6.000000e+00   \n",
       "50%     1.590000e+00  1.000000e+00  1.610000e+02  1.610000e+02  9.000000e+00   \n",
       "75%     2.900000e+00  1.000000e+00  2.310000e+02  2.330000e+02  1.350000e+01   \n",
       "max     8.318000e+02  9.900000e+01  2.630000e+02  2.630000e+02  6.232599e+05   \n",
       "\n",
       "             pickup          time  \n",
       "count  7.999598e+06  7.999598e+06  \n",
       "mean   5.143937e+04  7.866176e+02  \n",
       "std    2.129533e+04  6.369239e+02  \n",
       "min    0.000000e+00  1.000000e+00  \n",
       "25%    3.631000e+04  3.730000e+02  \n",
       "50%    5.377000e+04  6.160000e+02  \n",
       "75%    6.856900e+04  1.004000e+03  \n",
       "max    8.639900e+04  2.877300e+04  "
      ]
     },
     "execution_count": 104,
     "metadata": {},
     "output_type": "execute_result"
    }
   ],
   "source": [
    "df.describe()"
   ]
  },
  {
   "cell_type": "markdown",
   "id": "3491c559-6c37-4c65-bda7-a5cb22fad407",
   "metadata": {},
   "source": [
    "Use this code to check for bad data"
   ]
  },
  {
   "cell_type": "code",
   "execution_count": 105,
   "id": "48fd3ddb-58d1-4161-84cf-1855ef8828bb",
   "metadata": {},
   "outputs": [],
   "source": [
    "X_train = X[:int(0.8*len(X))]\n",
    "X_test = X[int(0.8*len(X)):]\n",
    "\n",
    "Y_train = Y[:int(0.8*len(Y))]\n",
    "Y_test = Y[int(0.8*len(Y)):]\n"
   ]
  },
  {
   "cell_type": "markdown",
   "id": "68a1e254-6319-4d09-97d0-8038fffcda4c",
   "metadata": {},
   "source": [
    "divide into test sets and train sets for the model"
   ]
  },
  {
   "cell_type": "code",
   "execution_count": 106,
   "id": "7324ae0c-0f57-4752-83c5-cb61709ece97",
   "metadata": {},
   "outputs": [],
   "source": [
    "from sklearn.metrics import mean_squared_error, r2_score\n"
   ]
  },
  {
   "cell_type": "markdown",
   "id": "56d80adc-eca5-4d3e-a6b2-38ca49f9d919",
   "metadata": {},
   "source": [
    "Add the score measures"
   ]
  },
  {
   "cell_type": "code",
   "execution_count": 107,
   "id": "059576af-2ed4-48f4-bfd3-a386fc19c96c",
   "metadata": {},
   "outputs": [
    {
     "data": {
      "text/plain": [
       "0.44537176548862356"
      ]
     },
     "execution_count": 107,
     "metadata": {},
     "output_type": "execute_result"
    }
   ],
   "source": [
    "from sklearn.tree import DecisionTreeRegressor\n",
    "\n",
    "t = DecisionTreeRegressor()\n",
    "t = t.fit(X_train, Y_train)\n",
    "Y_hat = t.predict(X_test)\n",
    "r2_score(Y_test, Y_hat)"
   ]
  },
  {
   "cell_type": "markdown",
   "id": "c2378119-63c1-48b1-b15b-98a391639f8b",
   "metadata": {},
   "source": [
    "test the decision tree first and we got 0.44"
   ]
  },
  {
   "cell_type": "code",
   "execution_count": 108,
   "id": "bb4816bd-0b0a-4469-a838-86ee565ed344",
   "metadata": {},
   "outputs": [
    {
     "data": {
      "text/plain": [
       "0.5607402507346347"
      ]
     },
     "execution_count": 108,
     "metadata": {},
     "output_type": "execute_result"
    }
   ],
   "source": [
    "from sklearn.linear_model import LinearRegression\n",
    "\n",
    "lm = LinearRegression()\n",
    "lm = lm.fit(X_train, Y_train)\n",
    "Y_hat = lm.predict(X_test)\n",
    "r2_score(Y_test, Y_hat)\n"
   ]
  },
  {
   "cell_type": "markdown",
   "id": "fdb6f807-c348-42f7-9644-d87732868b65",
   "metadata": {},
   "source": [
    "Test linear model and got a better result then the descision tree at 0.56"
   ]
  },
  {
   "cell_type": "code",
   "execution_count": null,
   "id": "66a07e0c-d2bb-4a60-bb9f-210e6cf10770",
   "metadata": {},
   "outputs": [],
   "source": [
    "from sklearn.ensemble import RandomForestRegressor\n",
    "\n",
    "f = RandomForestRegressor()\n",
    "f = t.fit(X_train, Y_train)\n",
    "Y_hat = t.predict(X_test)\n",
    "r2_score(Y_test, Y_hat)"
   ]
  },
  {
   "cell_type": "markdown",
   "id": "917dc174-fe8e-4a12-b56a-934a634eb567",
   "metadata": {},
   "source": [
    "Lastly test the random forrest and got the best result but the time it takes to calculate the random tree is very very long, so we decided to use the linear model"
   ]
  },
  {
   "cell_type": "code",
   "execution_count": null,
   "id": "d2dcad14-0c6b-47d9-aeef-c2807ff85936",
   "metadata": {},
   "outputs": [],
   "source": [
    "from joblib import dump, load\n",
    "dump(lm, 'linnearYellow.joblib') "
   ]
  },
  {
   "cell_type": "markdown",
   "id": "e0e51341-e251-4328-9523-25127c1e51f0",
   "metadata": {},
   "source": [
    "Use joblib with to copy the linnear model into out assigment"
   ]
  }
 ],
 "metadata": {
  "kernelspec": {
   "display_name": "Python 3 (ipykernel)",
   "language": "python",
   "name": "python3"
  },
  "language_info": {
   "codemirror_mode": {
    "name": "ipython",
    "version": 3
   },
   "file_extension": ".py",
   "mimetype": "text/x-python",
   "name": "python",
   "nbconvert_exporter": "python",
   "pygments_lexer": "ipython3",
   "version": "3.9.7"
  },
  "toc-autonumbering": true,
  "toc-showcode": true,
  "toc-showmarkdowntxt": true
 },
 "nbformat": 4,
 "nbformat_minor": 5
}
